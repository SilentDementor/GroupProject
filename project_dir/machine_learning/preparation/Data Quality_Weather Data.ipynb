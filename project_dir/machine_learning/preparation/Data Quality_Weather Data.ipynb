{
 "cells": [
  {
   "cell_type": "code",
   "execution_count": 21,
   "id": "90804a89",
   "metadata": {
    "ExecuteTime": {
     "end_time": "2023-04-07T00:27:38.611412Z",
     "start_time": "2023-04-07T00:27:38.603433Z"
    }
   },
   "outputs": [],
   "source": [
    "# !pip install sqlalchemy\n",
    "# !pip install pymysql\n",
    "# !pip install mysql-connector-python\n",
    "# !pip install geopy"
   ]
  },
  {
   "cell_type": "code",
   "execution_count": 11,
   "id": "e89c9a09",
   "metadata": {
    "ExecuteTime": {
     "end_time": "2023-04-07T11:37:58.313560Z",
     "start_time": "2023-04-07T11:37:58.299205Z"
    }
   },
   "outputs": [],
   "source": [
    "# Sources Consulted: # https://stackoverflow.com/questions/29525808/sqlalchemy-orm-conversion-to-pandas-dataframe\n",
    "# import sqlalchemy as db\n",
    "# from sqlalchemy import create_engine\n",
    "# from sqlalchemy.sql import select\n",
    "from sqlalchemy import create_engine\n",
    "import config\n",
    "import pandas as pd\n",
    "import matplotlib.pyplot as plt\n",
    "import numpy as np"
   ]
  },
  {
   "cell_type": "code",
   "execution_count": 12,
   "id": "08892d3b",
   "metadata": {
    "ExecuteTime": {
     "end_time": "2023-04-07T11:38:00.479479Z",
     "start_time": "2023-04-07T11:38:00.466450Z"
    }
   },
   "outputs": [],
   "source": [
    "# getting details to connect to database:\n",
    "DB_HOST = config.hostname\n",
    "DB_USER = config.username\n",
    "DB_PASS = config.password\n",
    "DB_PORT = config.port\n",
    "DB_NAME = config.db_name"
   ]
  },
  {
   "cell_type": "code",
   "execution_count": 14,
   "id": "4a4a17a2",
   "metadata": {
    "ExecuteTime": {
     "end_time": "2023-04-07T11:41:43.723951Z",
     "start_time": "2023-04-07T11:41:41.301318Z"
    }
   },
   "outputs": [
    {
     "name": "stdout",
     "output_type": "stream",
     "text": [
      "2023-04-07 12:41:41,910 INFO sqlalchemy.engine.Engine SELECT DATABASE()\n",
      "2023-04-07 12:41:41,910 INFO sqlalchemy.engine.Engine [raw sql] {}\n",
      "2023-04-07 12:41:42,094 INFO sqlalchemy.engine.Engine SELECT @@sql_mode\n",
      "2023-04-07 12:41:42,094 INFO sqlalchemy.engine.Engine [raw sql] {}\n",
      "2023-04-07 12:41:42,178 INFO sqlalchemy.engine.Engine SELECT @@lower_case_table_names\n",
      "2023-04-07 12:41:42,178 INFO sqlalchemy.engine.Engine [raw sql] {}\n",
      "2023-04-07 12:41:42,925 INFO sqlalchemy.engine.Engine SELECT availability.number,  DATE_FORMAT(FROM_UNIXTIME(`date_time`), '%%Y-%%m-%%d %%H:%%i:%%s') as \"date_time\", weather_main, weather_description, temperature, temp_feels_like, pressure, humidity, visibility, wind_speed\n",
      "                    FROM dbbikes.weather_history\n",
      "                    INNER JOIN dbbikes.availability\n",
      "                    WHERE weather_history.date_time = availability.last_update\n",
      "                    order by last_update desc\n",
      "                    limit 500;\n",
      "2023-04-07 12:41:42,925 INFO sqlalchemy.engine.Engine [raw sql] {}\n"
     ]
    }
   ],
   "source": [
    "# create a connection to the MySQL database\n",
    "engine = create_engine(\"mysql+pymysql://{0}:{1}@{2}\".format(DB_USER, DB_PASS, DB_HOST), echo=True) \n",
    "connection = engine.connect()\n",
    "\n",
    "sql_weather = \"\"\"SELECT availability.number,  DATE_FORMAT(FROM_UNIXTIME(`date_time`), '%%Y-%%m-%%d %%H:%%i:%%s') as \"date_time\", weather_main, weather_description, temperature, temp_feels_like, pressure, humidity, visibility, wind_speed\n",
    "                    FROM dbbikes.weather_history\n",
    "                    INNER JOIN dbbikes.availability\n",
    "                    WHERE weather_history.date_time = availability.last_update\n",
    "                    order by last_update desc\n",
    "                    limit 500;\"\"\"\n",
    "\n",
    "# # create a cursor object to execute SQL queries\n",
    "# cursor = cnx.cursor()\n",
    "# # determine averages \n",
    "# # execute a select query on a table and fetch the results\n",
    "# # hour, dayly, monthly data - hour, month\n",
    "\n",
    "# https://stackoverflow.com/questions/29525808/sqlalchemy-orm-conversion-to-pandas-dataframe\n",
    "df_weather = pd.read_sql_query(sql_weather, engine) "
   ]
  },
  {
   "cell_type": "code",
   "execution_count": 15,
   "id": "d6d9ecd6",
   "metadata": {
    "ExecuteTime": {
     "end_time": "2023-04-07T11:41:48.602309Z",
     "start_time": "2023-04-07T11:41:48.594186Z"
    }
   },
   "outputs": [
    {
     "data": {
      "text/plain": [
       "(500, 10)"
      ]
     },
     "execution_count": 15,
     "metadata": {},
     "output_type": "execute_result"
    }
   ],
   "source": [
    "df_weather.shape"
   ]
  },
  {
   "cell_type": "code",
   "execution_count": 16,
   "id": "db7ff7b3",
   "metadata": {
    "ExecuteTime": {
     "end_time": "2023-04-07T11:41:51.988606Z",
     "start_time": "2023-04-07T11:41:51.970429Z"
    }
   },
   "outputs": [
    {
     "data": {
      "text/html": [
       "<div>\n",
       "<style scoped>\n",
       "    .dataframe tbody tr th:only-of-type {\n",
       "        vertical-align: middle;\n",
       "    }\n",
       "\n",
       "    .dataframe tbody tr th {\n",
       "        vertical-align: top;\n",
       "    }\n",
       "\n",
       "    .dataframe thead th {\n",
       "        text-align: right;\n",
       "    }\n",
       "</style>\n",
       "<table border=\"1\" class=\"dataframe\">\n",
       "  <thead>\n",
       "    <tr style=\"text-align: right;\">\n",
       "      <th></th>\n",
       "      <th>number</th>\n",
       "      <th>date_time</th>\n",
       "      <th>weather_main</th>\n",
       "      <th>weather_description</th>\n",
       "      <th>temperature</th>\n",
       "      <th>temp_feels_like</th>\n",
       "      <th>pressure</th>\n",
       "      <th>humidity</th>\n",
       "      <th>visibility</th>\n",
       "      <th>wind_speed</th>\n",
       "    </tr>\n",
       "  </thead>\n",
       "  <tbody>\n",
       "    <tr>\n",
       "      <th>0</th>\n",
       "      <td>42</td>\n",
       "      <td>2023-04-07 08:00:02</td>\n",
       "      <td>Clouds</td>\n",
       "      <td>broken clouds</td>\n",
       "      <td>280.93</td>\n",
       "      <td>279.7</td>\n",
       "      <td>1021</td>\n",
       "      <td>88</td>\n",
       "      <td>10000</td>\n",
       "      <td>2.06</td>\n",
       "    </tr>\n",
       "    <tr>\n",
       "      <th>1</th>\n",
       "      <td>30</td>\n",
       "      <td>2023-04-07 08:00:02</td>\n",
       "      <td>Clouds</td>\n",
       "      <td>broken clouds</td>\n",
       "      <td>280.93</td>\n",
       "      <td>279.7</td>\n",
       "      <td>1021</td>\n",
       "      <td>88</td>\n",
       "      <td>10000</td>\n",
       "      <td>2.06</td>\n",
       "    </tr>\n",
       "    <tr>\n",
       "      <th>2</th>\n",
       "      <td>54</td>\n",
       "      <td>2023-04-07 08:00:02</td>\n",
       "      <td>Clouds</td>\n",
       "      <td>broken clouds</td>\n",
       "      <td>280.93</td>\n",
       "      <td>279.7</td>\n",
       "      <td>1021</td>\n",
       "      <td>88</td>\n",
       "      <td>10000</td>\n",
       "      <td>2.06</td>\n",
       "    </tr>\n",
       "    <tr>\n",
       "      <th>3</th>\n",
       "      <td>108</td>\n",
       "      <td>2023-04-07 08:00:02</td>\n",
       "      <td>Clouds</td>\n",
       "      <td>broken clouds</td>\n",
       "      <td>280.93</td>\n",
       "      <td>279.7</td>\n",
       "      <td>1021</td>\n",
       "      <td>88</td>\n",
       "      <td>10000</td>\n",
       "      <td>2.06</td>\n",
       "    </tr>\n",
       "    <tr>\n",
       "      <th>4</th>\n",
       "      <td>20</td>\n",
       "      <td>2023-04-07 08:00:02</td>\n",
       "      <td>Clouds</td>\n",
       "      <td>broken clouds</td>\n",
       "      <td>280.93</td>\n",
       "      <td>279.7</td>\n",
       "      <td>1021</td>\n",
       "      <td>88</td>\n",
       "      <td>10000</td>\n",
       "      <td>2.06</td>\n",
       "    </tr>\n",
       "  </tbody>\n",
       "</table>\n",
       "</div>"
      ],
      "text/plain": [
       "   number            date_time weather_main weather_description  temperature  \\\n",
       "0      42  2023-04-07 08:00:02       Clouds       broken clouds       280.93   \n",
       "1      30  2023-04-07 08:00:02       Clouds       broken clouds       280.93   \n",
       "2      54  2023-04-07 08:00:02       Clouds       broken clouds       280.93   \n",
       "3     108  2023-04-07 08:00:02       Clouds       broken clouds       280.93   \n",
       "4      20  2023-04-07 08:00:02       Clouds       broken clouds       280.93   \n",
       "\n",
       "   temp_feels_like  pressure  humidity  visibility  wind_speed  \n",
       "0            279.7      1021        88       10000        2.06  \n",
       "1            279.7      1021        88       10000        2.06  \n",
       "2            279.7      1021        88       10000        2.06  \n",
       "3            279.7      1021        88       10000        2.06  \n",
       "4            279.7      1021        88       10000        2.06  "
      ]
     },
     "execution_count": 16,
     "metadata": {},
     "output_type": "execute_result"
    }
   ],
   "source": [
    "df_weather.head()"
   ]
  },
  {
   "cell_type": "code",
   "execution_count": 8,
   "id": "5e9dc5af",
   "metadata": {
    "ExecuteTime": {
     "end_time": "2023-04-07T11:35:17.901525Z",
     "start_time": "2023-04-07T11:35:17.878767Z"
    }
   },
   "outputs": [
    {
     "data": {
      "text/html": [
       "<div>\n",
       "<style scoped>\n",
       "    .dataframe tbody tr th:only-of-type {\n",
       "        vertical-align: middle;\n",
       "    }\n",
       "\n",
       "    .dataframe tbody tr th {\n",
       "        vertical-align: top;\n",
       "    }\n",
       "\n",
       "    .dataframe thead th {\n",
       "        text-align: right;\n",
       "    }\n",
       "</style>\n",
       "<table border=\"1\" class=\"dataframe\">\n",
       "  <thead>\n",
       "    <tr style=\"text-align: right;\">\n",
       "      <th></th>\n",
       "      <th>weather_id</th>\n",
       "      <th>number</th>\n",
       "      <th>name</th>\n",
       "      <th>date_time</th>\n",
       "      <th>weather_main</th>\n",
       "      <th>weather_description</th>\n",
       "      <th>temperature</th>\n",
       "      <th>temp_feels_like</th>\n",
       "      <th>pressure</th>\n",
       "      <th>humidity</th>\n",
       "      <th>visibility</th>\n",
       "      <th>wind_speed</th>\n",
       "    </tr>\n",
       "  </thead>\n",
       "  <tbody>\n",
       "    <tr>\n",
       "      <th>495</th>\n",
       "      <td>802</td>\n",
       "      <td>42</td>\n",
       "      <td>SMITHFIELD NORTH</td>\n",
       "      <td>2023-03-13 19:11:38</td>\n",
       "      <td>Clouds</td>\n",
       "      <td>scattered clouds</td>\n",
       "      <td>280.03</td>\n",
       "      <td>276.18</td>\n",
       "      <td>986</td>\n",
       "      <td>78</td>\n",
       "      <td>10000</td>\n",
       "      <td>6.71</td>\n",
       "    </tr>\n",
       "    <tr>\n",
       "      <th>496</th>\n",
       "      <td>802</td>\n",
       "      <td>42</td>\n",
       "      <td>SMITHFIELD NORTH</td>\n",
       "      <td>2023-03-13 19:10:03</td>\n",
       "      <td>Clouds</td>\n",
       "      <td>scattered clouds</td>\n",
       "      <td>280.03</td>\n",
       "      <td>276.18</td>\n",
       "      <td>986</td>\n",
       "      <td>78</td>\n",
       "      <td>10000</td>\n",
       "      <td>6.71</td>\n",
       "    </tr>\n",
       "    <tr>\n",
       "      <th>497</th>\n",
       "      <td>500</td>\n",
       "      <td>42</td>\n",
       "      <td>SMITHFIELD NORTH</td>\n",
       "      <td>2023-03-13 19:00:00</td>\n",
       "      <td>Rain</td>\n",
       "      <td>light rain</td>\n",
       "      <td>280.00</td>\n",
       "      <td>276.14</td>\n",
       "      <td>986</td>\n",
       "      <td>77</td>\n",
       "      <td>10000</td>\n",
       "      <td>6.71</td>\n",
       "    </tr>\n",
       "    <tr>\n",
       "      <th>498</th>\n",
       "      <td>802</td>\n",
       "      <td>42</td>\n",
       "      <td>SMITHFIELD NORTH</td>\n",
       "      <td>2023-03-13 18:56:40</td>\n",
       "      <td>Clouds</td>\n",
       "      <td>scattered clouds</td>\n",
       "      <td>280.08</td>\n",
       "      <td>276.24</td>\n",
       "      <td>986</td>\n",
       "      <td>78</td>\n",
       "      <td>10000</td>\n",
       "      <td>6.71</td>\n",
       "    </tr>\n",
       "    <tr>\n",
       "      <th>499</th>\n",
       "      <td>802</td>\n",
       "      <td>42</td>\n",
       "      <td>SMITHFIELD NORTH</td>\n",
       "      <td>2023-03-13 18:50:03</td>\n",
       "      <td>Clouds</td>\n",
       "      <td>scattered clouds</td>\n",
       "      <td>280.08</td>\n",
       "      <td>276.24</td>\n",
       "      <td>986</td>\n",
       "      <td>78</td>\n",
       "      <td>10000</td>\n",
       "      <td>6.71</td>\n",
       "    </tr>\n",
       "  </tbody>\n",
       "</table>\n",
       "</div>"
      ],
      "text/plain": [
       "     weather_id  number              name            date_time weather_main  \\\n",
       "495         802      42  SMITHFIELD NORTH  2023-03-13 19:11:38       Clouds   \n",
       "496         802      42  SMITHFIELD NORTH  2023-03-13 19:10:03       Clouds   \n",
       "497         500      42  SMITHFIELD NORTH  2023-03-13 19:00:00         Rain   \n",
       "498         802      42  SMITHFIELD NORTH  2023-03-13 18:56:40       Clouds   \n",
       "499         802      42  SMITHFIELD NORTH  2023-03-13 18:50:03       Clouds   \n",
       "\n",
       "    weather_description  temperature  temp_feels_like  pressure  humidity  \\\n",
       "495    scattered clouds       280.03           276.18       986        78   \n",
       "496    scattered clouds       280.03           276.18       986        78   \n",
       "497          light rain       280.00           276.14       986        77   \n",
       "498    scattered clouds       280.08           276.24       986        78   \n",
       "499    scattered clouds       280.08           276.24       986        78   \n",
       "\n",
       "     visibility  wind_speed  \n",
       "495       10000        6.71  \n",
       "496       10000        6.71  \n",
       "497       10000        6.71  \n",
       "498       10000        6.71  \n",
       "499       10000        6.71  "
      ]
     },
     "execution_count": 8,
     "metadata": {},
     "output_type": "execute_result"
    }
   ],
   "source": [
    "df_weather.tail()"
   ]
  },
  {
   "cell_type": "code",
   "execution_count": 17,
   "id": "cec6b57f",
   "metadata": {
    "ExecuteTime": {
     "end_time": "2023-04-07T11:43:52.919862Z",
     "start_time": "2023-04-07T11:43:52.901951Z"
    }
   },
   "outputs": [
    {
     "data": {
      "text/plain": [
       "number                   int64\n",
       "date_time               object\n",
       "weather_main            object\n",
       "weather_description     object\n",
       "temperature            float64\n",
       "temp_feels_like        float64\n",
       "pressure                 int64\n",
       "humidity                 int64\n",
       "visibility               int64\n",
       "wind_speed             float64\n",
       "dtype: object"
      ]
     },
     "execution_count": 17,
     "metadata": {},
     "output_type": "execute_result"
    }
   ],
   "source": [
    "df_weather.dtypes"
   ]
  },
  {
   "cell_type": "code",
   "execution_count": 20,
   "id": "57401bb0",
   "metadata": {
    "ExecuteTime": {
     "end_time": "2023-04-07T11:45:55.034793Z",
     "start_time": "2023-04-07T11:45:55.025651Z"
    }
   },
   "outputs": [
    {
     "data": {
      "text/plain": [
       "0      88\n",
       "1      88\n",
       "2      88\n",
       "3      88\n",
       "4      88\n",
       "       ..\n",
       "495    73\n",
       "496    73\n",
       "497    73\n",
       "498    73\n",
       "499    73\n",
       "Name: humidity, Length: 500, dtype: int64"
      ]
     },
     "execution_count": 20,
     "metadata": {},
     "output_type": "execute_result"
    }
   ],
   "source": [
    "df_weather[\"humidity\"].fillna(0)"
   ]
  },
  {
   "cell_type": "code",
   "execution_count": 40,
   "id": "16995c91",
   "metadata": {
    "ExecuteTime": {
     "end_time": "2023-04-07T12:13:27.394045Z",
     "start_time": "2023-04-07T12:13:27.371759Z"
    }
   },
   "outputs": [
    {
     "data": {
      "text/plain": [
       "number                       category\n",
       "date_time              datetime64[ns]\n",
       "weather_main                 category\n",
       "weather_description          category\n",
       "temperature                   float64\n",
       "temp_feels_like               float64\n",
       "pressure                        int64\n",
       "humidity                        int64\n",
       "visibility                      int64\n",
       "wind_speed                    float64\n",
       "dtype: object"
      ]
     },
     "execution_count": 40,
     "metadata": {},
     "output_type": "execute_result"
    }
   ],
   "source": [
    "categorical_columns = df_weather[['number','weather_main', 'weather_description']].columns\n",
    "# Convert data type to category for these columns\n",
    "for column in categorical_columns:\n",
    "    df_weather[column] = df_weather[column].astype('category') \n",
    "    \n",
    "df_weather[\"humidity\"] = df_weather[\"humidity\"].fillna(0)\n",
    "df_weather[\"humidity\"] = df_weather[\"humidity\"].astype('int64')  \n",
    "continuous_columns = df_weather.select_dtypes(['int64','float64']).columns\n",
    "\n",
    "datetime_columns = df_weather[['date_time']].columns\n",
    "for column in datetime_columns:\n",
    "    df_weather[column] = df_weather[column].astype('datetime64[ns]') \n",
    "\n",
    "df_weather.dtypes"
   ]
  },
  {
   "cell_type": "code",
   "execution_count": 23,
   "id": "8d4e8f17",
   "metadata": {
    "ExecuteTime": {
     "end_time": "2023-04-07T11:57:07.946377Z",
     "start_time": "2023-04-07T11:57:07.930428Z"
    }
   },
   "outputs": [
    {
     "name": "stdout",
     "output_type": "stream",
     "text": [
      "Number of duplicate (excluding first) rows in the table is:  0\n",
      "Number of duplicate rows (including first) in the table is: 0\n"
     ]
    }
   ],
   "source": [
    "#Print the number of duplicates, without the original rows that were duplicated\n",
    "print('Number of duplicate (excluding first) rows in the table is: ', df_weather.duplicated().sum())\n",
    "\n",
    "# Check for duplicate rows. \n",
    "# Use \"keep=False\" to mark all duplicates as true, including the original rows that were duplicated.\n",
    "print('Number of duplicate rows (including first) in the table is:', df_weather[df_weather.duplicated(keep=False)].shape[0])"
   ]
  },
  {
   "cell_type": "code",
   "execution_count": 24,
   "id": "ef0cd231",
   "metadata": {
    "ExecuteTime": {
     "end_time": "2023-04-07T11:57:51.669882Z",
     "start_time": "2023-04-07T11:57:51.584906Z"
    }
   },
   "outputs": [
    {
     "name": "stdout",
     "output_type": "stream",
     "text": [
      "Number of duplicate (excluding first) columns in the table is:  0\n",
      "Number of duplicate (including first) columns in the table is:  0\n"
     ]
    }
   ],
   "source": [
    "# Check for duplicate columns\n",
    "#First transpose the df so columns become rows, then apply the same check as above\n",
    "df_weatherT = df_weather.T\n",
    "print(\"Number of duplicate (excluding first) columns in the table is: \", df_weatherT.duplicated().sum())\n",
    "print(\"Number of duplicate (including first) columns in the table is: \",  df_weatherT[df_weatherT.duplicated(keep=False)].shape[0])"
   ]
  },
  {
   "cell_type": "code",
   "execution_count": 25,
   "id": "0971db61",
   "metadata": {
    "ExecuteTime": {
     "end_time": "2023-04-07T11:58:24.587636Z",
     "start_time": "2023-04-07T11:58:24.569208Z"
    }
   },
   "outputs": [
    {
     "data": {
      "text/html": [
       "<div>\n",
       "<style scoped>\n",
       "    .dataframe tbody tr th:only-of-type {\n",
       "        vertical-align: middle;\n",
       "    }\n",
       "\n",
       "    .dataframe tbody tr th {\n",
       "        vertical-align: top;\n",
       "    }\n",
       "\n",
       "    .dataframe thead th {\n",
       "        text-align: right;\n",
       "    }\n",
       "</style>\n",
       "<table border=\"1\" class=\"dataframe\">\n",
       "  <thead>\n",
       "    <tr style=\"text-align: right;\">\n",
       "      <th></th>\n",
       "      <th>count</th>\n",
       "      <th>unique</th>\n",
       "      <th>top</th>\n",
       "      <th>freq</th>\n",
       "    </tr>\n",
       "  </thead>\n",
       "  <tbody>\n",
       "    <tr>\n",
       "      <th>number</th>\n",
       "      <td>500</td>\n",
       "      <td>114</td>\n",
       "      <td>1</td>\n",
       "      <td>5</td>\n",
       "    </tr>\n",
       "    <tr>\n",
       "      <th>weather_main</th>\n",
       "      <td>500</td>\n",
       "      <td>1</td>\n",
       "      <td>Clouds</td>\n",
       "      <td>500</td>\n",
       "    </tr>\n",
       "    <tr>\n",
       "      <th>weather_description</th>\n",
       "      <td>500</td>\n",
       "      <td>2</td>\n",
       "      <td>broken clouds</td>\n",
       "      <td>272</td>\n",
       "    </tr>\n",
       "  </tbody>\n",
       "</table>\n",
       "</div>"
      ],
      "text/plain": [
       "                    count unique            top freq\n",
       "number                500    114              1    5\n",
       "weather_main          500      1         Clouds  500\n",
       "weather_description   500      2  broken clouds  272"
      ]
     },
     "execution_count": 25,
     "metadata": {},
     "output_type": "execute_result"
    }
   ],
   "source": [
    "df_weather.select_dtypes(['category']).describe().T"
   ]
  },
  {
   "cell_type": "code",
   "execution_count": 28,
   "id": "b5a0d7f2",
   "metadata": {
    "ExecuteTime": {
     "end_time": "2023-04-07T12:01:15.930818Z",
     "start_time": "2023-04-07T12:01:15.883174Z"
    }
   },
   "outputs": [
    {
     "data": {
      "text/html": [
       "<div>\n",
       "<style scoped>\n",
       "    .dataframe tbody tr th:only-of-type {\n",
       "        vertical-align: middle;\n",
       "    }\n",
       "\n",
       "    .dataframe tbody tr th {\n",
       "        vertical-align: top;\n",
       "    }\n",
       "\n",
       "    .dataframe thead th {\n",
       "        text-align: right;\n",
       "    }\n",
       "</style>\n",
       "<table border=\"1\" class=\"dataframe\">\n",
       "  <thead>\n",
       "    <tr style=\"text-align: right;\">\n",
       "      <th></th>\n",
       "      <th>count</th>\n",
       "      <th>mean</th>\n",
       "      <th>std</th>\n",
       "      <th>min</th>\n",
       "      <th>25%</th>\n",
       "      <th>50%</th>\n",
       "      <th>75%</th>\n",
       "      <th>max</th>\n",
       "    </tr>\n",
       "  </thead>\n",
       "  <tbody>\n",
       "    <tr>\n",
       "      <th>temperature</th>\n",
       "      <td>500.0</td>\n",
       "      <td>281.32472</td>\n",
       "      <td>2.992319</td>\n",
       "      <td>278.24</td>\n",
       "      <td>279.25</td>\n",
       "      <td>280.93</td>\n",
       "      <td>282.98</td>\n",
       "      <td>286.24</td>\n",
       "    </tr>\n",
       "    <tr>\n",
       "      <th>temp_feels_like</th>\n",
       "      <td>500.0</td>\n",
       "      <td>279.73240</td>\n",
       "      <td>3.115645</td>\n",
       "      <td>276.92</td>\n",
       "      <td>277.15</td>\n",
       "      <td>279.70</td>\n",
       "      <td>280.12</td>\n",
       "      <td>285.01</td>\n",
       "    </tr>\n",
       "    <tr>\n",
       "      <th>pressure</th>\n",
       "      <td>500.0</td>\n",
       "      <td>1019.19200</td>\n",
       "      <td>1.743909</td>\n",
       "      <td>1016.00</td>\n",
       "      <td>1017.00</td>\n",
       "      <td>1020.00</td>\n",
       "      <td>1020.00</td>\n",
       "      <td>1021.00</td>\n",
       "    </tr>\n",
       "    <tr>\n",
       "      <th>humidity</th>\n",
       "      <td>500.0</td>\n",
       "      <td>75.96400</td>\n",
       "      <td>12.686236</td>\n",
       "      <td>54.00</td>\n",
       "      <td>73.00</td>\n",
       "      <td>79.00</td>\n",
       "      <td>84.00</td>\n",
       "      <td>88.00</td>\n",
       "    </tr>\n",
       "    <tr>\n",
       "      <th>visibility</th>\n",
       "      <td>500.0</td>\n",
       "      <td>10000.00000</td>\n",
       "      <td>0.000000</td>\n",
       "      <td>10000.00</td>\n",
       "      <td>10000.00</td>\n",
       "      <td>10000.00</td>\n",
       "      <td>10000.00</td>\n",
       "      <td>10000.00</td>\n",
       "    </tr>\n",
       "    <tr>\n",
       "      <th>wind_speed</th>\n",
       "      <td>500.0</td>\n",
       "      <td>3.94472</td>\n",
       "      <td>2.632764</td>\n",
       "      <td>1.54</td>\n",
       "      <td>2.06</td>\n",
       "      <td>3.09</td>\n",
       "      <td>6.17</td>\n",
       "      <td>8.23</td>\n",
       "    </tr>\n",
       "  </tbody>\n",
       "</table>\n",
       "</div>"
      ],
      "text/plain": [
       "                 count         mean        std       min       25%       50%  \\\n",
       "temperature      500.0    281.32472   2.992319    278.24    279.25    280.93   \n",
       "temp_feels_like  500.0    279.73240   3.115645    276.92    277.15    279.70   \n",
       "pressure         500.0   1019.19200   1.743909   1016.00   1017.00   1020.00   \n",
       "humidity         500.0     75.96400  12.686236     54.00     73.00     79.00   \n",
       "visibility       500.0  10000.00000   0.000000  10000.00  10000.00  10000.00   \n",
       "wind_speed       500.0      3.94472   2.632764      1.54      2.06      3.09   \n",
       "\n",
       "                      75%       max  \n",
       "temperature        282.98    286.24  \n",
       "temp_feels_like    280.12    285.01  \n",
       "pressure          1020.00   1021.00  \n",
       "humidity            84.00     88.00  \n",
       "visibility       10000.00  10000.00  \n",
       "wind_speed           6.17      8.23  "
      ]
     },
     "execution_count": 28,
     "metadata": {},
     "output_type": "execute_result"
    }
   ],
   "source": [
    "df_weather.select_dtypes(include=['int64','float64']).describe().T"
   ]
  },
  {
   "cell_type": "code",
   "execution_count": 30,
   "id": "fc3b506f",
   "metadata": {
    "ExecuteTime": {
     "end_time": "2023-04-07T12:03:32.572535Z",
     "start_time": "2023-04-07T12:03:32.556923Z"
    }
   },
   "outputs": [
    {
     "data": {
      "text/html": [
       "<div>\n",
       "<style scoped>\n",
       "    .dataframe tbody tr th:only-of-type {\n",
       "        vertical-align: middle;\n",
       "    }\n",
       "\n",
       "    .dataframe tbody tr th {\n",
       "        vertical-align: top;\n",
       "    }\n",
       "\n",
       "    .dataframe thead th {\n",
       "        text-align: right;\n",
       "    }\n",
       "</style>\n",
       "<table border=\"1\" class=\"dataframe\">\n",
       "  <thead>\n",
       "    <tr style=\"text-align: right;\">\n",
       "      <th></th>\n",
       "      <th>count</th>\n",
       "      <th>mean</th>\n",
       "      <th>min</th>\n",
       "      <th>25%</th>\n",
       "      <th>50%</th>\n",
       "      <th>75%</th>\n",
       "      <th>max</th>\n",
       "    </tr>\n",
       "  </thead>\n",
       "  <tbody>\n",
       "    <tr>\n",
       "      <th>date_time</th>\n",
       "      <td>500</td>\n",
       "      <td>2023-04-06 22:13:35.372</td>\n",
       "      <td>2023-04-06 10:45:02</td>\n",
       "      <td>2023-04-06 14:15:02</td>\n",
       "      <td>2023-04-06 22:35:01</td>\n",
       "      <td>2023-04-07 00:30:02</td>\n",
       "      <td>2023-04-07 08:00:02</td>\n",
       "    </tr>\n",
       "  </tbody>\n",
       "</table>\n",
       "</div>"
      ],
      "text/plain": [
       "          count                    mean                 min  \\\n",
       "date_time   500 2023-04-06 22:13:35.372 2023-04-06 10:45:02   \n",
       "\n",
       "                          25%                 50%                 75%  \\\n",
       "date_time 2023-04-06 14:15:02 2023-04-06 22:35:01 2023-04-07 00:30:02   \n",
       "\n",
       "                          max  \n",
       "date_time 2023-04-07 08:00:02  "
      ]
     },
     "execution_count": 30,
     "metadata": {},
     "output_type": "execute_result"
    }
   ],
   "source": [
    "df_weather.select_dtypes(include=['datetime64[ns]']).describe(datetime_is_numeric=True).T"
   ]
  },
  {
   "cell_type": "code",
   "execution_count": 31,
   "id": "e8cb04fc",
   "metadata": {
    "ExecuteTime": {
     "end_time": "2023-04-07T12:03:53.016232Z",
     "start_time": "2023-04-07T12:03:52.994546Z"
    }
   },
   "outputs": [
    {
     "data": {
      "text/plain": [
       "number                 0\n",
       "date_time              0\n",
       "weather_main           0\n",
       "weather_description    0\n",
       "temperature            0\n",
       "temp_feels_like        0\n",
       "pressure               0\n",
       "humidity               0\n",
       "visibility             0\n",
       "wind_speed             0\n",
       "dtype: int64"
      ]
     },
     "execution_count": 31,
     "metadata": {},
     "output_type": "execute_result"
    }
   ],
   "source": [
    "df_weather.isnull().sum()"
   ]
  },
  {
   "cell_type": "code",
   "execution_count": 32,
   "id": "88a751c6",
   "metadata": {
    "ExecuteTime": {
     "end_time": "2023-04-07T12:04:54.973458Z",
     "start_time": "2023-04-07T12:04:53.704670Z"
    }
   },
   "outputs": [
    {
     "data": {
      "text/plain": [
       "array([[<AxesSubplot: title={'center': 'temperature'}>,\n",
       "        <AxesSubplot: title={'center': 'temp_feels_like'}>,\n",
       "        <AxesSubplot: title={'center': 'pressure'}>],\n",
       "       [<AxesSubplot: title={'center': 'humidity'}>,\n",
       "        <AxesSubplot: title={'center': 'visibility'}>,\n",
       "        <AxesSubplot: title={'center': 'wind_speed'}>],\n",
       "       [<AxesSubplot: >, <AxesSubplot: >, <AxesSubplot: >]], dtype=object)"
      ]
     },
     "execution_count": 32,
     "metadata": {},
     "output_type": "execute_result"
    },
    {
     "data": {
      "image/png": "[encoded data removed]",
      "text/plain": [
       "<Figure size 1000x1000 with 9 Axes>"
      ]
     },
     "metadata": {},
     "output_type": "display_data"
    }
   ],
   "source": [
    "df_weather[continuous_columns].hist(layout=(3, 3), figsize=(10,10), bins=10)"
   ]
  },
  {
   "cell_type": "code",
   "execution_count": 33,
   "id": "bec0f4dc",
   "metadata": {
    "ExecuteTime": {
     "end_time": "2023-04-07T12:05:24.347490Z",
     "start_time": "2023-04-07T12:05:23.812324Z"
    }
   },
   "outputs": [
    {
     "data": {
      "text/plain": [
       "temperature           AxesSubplot(0.125,0.653529;0.227941x0.226471)\n",
       "temp_feels_like    AxesSubplot(0.398529,0.653529;0.227941x0.226471)\n",
       "pressure           AxesSubplot(0.672059,0.653529;0.227941x0.226471)\n",
       "humidity              AxesSubplot(0.125,0.381765;0.227941x0.226471)\n",
       "visibility         AxesSubplot(0.398529,0.381765;0.227941x0.226471)\n",
       "wind_speed         AxesSubplot(0.672059,0.381765;0.227941x0.226471)\n",
       "dtype: object"
      ]
     },
     "execution_count": 33,
     "metadata": {},
     "output_type": "execute_result"
    },
    {
     "data": {
      "image/png": "[encoded data removed]",
      "text/plain": [
       "<Figure size 1000x500 with 9 Axes>"
      ]
     },
     "metadata": {},
     "output_type": "display_data"
    }
   ],
   "source": [
    "df_weather[continuous_columns].plot(kind='box', subplots=True, figsize=(10,5), layout=(3,3), sharex=False, sharey=False)"
   ]
  },
  {
   "cell_type": "code",
   "execution_count": 41,
   "id": "31d763c9",
   "metadata": {
    "ExecuteTime": {
     "end_time": "2023-04-07T12:14:02.625569Z",
     "start_time": "2023-04-07T12:14:02.453455Z"
    }
   },
   "outputs": [
    {
     "data": {
      "text/plain": [
       "<AxesSubplot: >"
      ]
     },
     "execution_count": 41,
     "metadata": {},
     "output_type": "execute_result"
    },
    {
     "data": {
      "image/png": "[encoded data removed]",
      "text/plain": [
       "<Figure size 640x480 with 1 Axes>"
      ]
     },
     "metadata": {},
     "output_type": "display_data"
    }
   ],
   "source": [
    "df_weather[datetime_columns].plot()"
   ]
  },
  {
   "cell_type": "code",
   "execution_count": 44,
   "id": "b1517fc7",
   "metadata": {
    "ExecuteTime": {
     "end_time": "2023-04-07T12:14:45.884035Z",
     "start_time": "2023-04-07T12:14:45.683975Z"
    }
   },
   "outputs": [
    {
     "name": "stdout",
     "output_type": "stream",
     "text": [
      "Index(['date_time'], dtype='object')\n"
     ]
    },
    {
     "data": {
      "text/plain": [
       "array([[<AxesSubplot: title={'center': 'date_time'}>]], dtype=object)"
      ]
     },
     "execution_count": 44,
     "metadata": {},
     "output_type": "execute_result"
    },
    {
     "data": {
      "image/png": "[encoded data removed]",
      "text/plain": [
       "<Figure size 640x480 with 1 Axes>"
      ]
     },
     "metadata": {},
     "output_type": "display_data"
    }
   ],
   "source": [
    "print(datetime_columns)\n",
    "df_weather[datetime_columns].hist()\n",
    "# df_weather[datetime_columns]"
   ]
  },
  {
   "cell_type": "code",
   "execution_count": 45,
   "id": "94d42b7d",
   "metadata": {
    "ExecuteTime": {
     "end_time": "2023-04-07T12:15:10.278378Z",
     "start_time": "2023-04-07T12:15:09.114531Z"
    }
   },
   "outputs": [
    {
     "data": {
      "text/plain": [
       "Text(0.5, 1.0, 'number')"
      ]
     },
     "execution_count": 45,
     "metadata": {},
     "output_type": "execute_result"
    },
    {
     "data": {
      "text/plain": [
       "Text(0, 0.5, 'number of occurances')"
      ]
     },
     "execution_count": 45,
     "metadata": {},
     "output_type": "execute_result"
    },
    {
     "data": {
      "image/png": "[encoded data removed]",
      "text/plain": [
       "<Figure size 1200x1000 with 1 Axes>"
      ]
     },
     "metadata": {},
     "output_type": "display_data"
    },
    {
     "data": {
      "text/plain": [
       "Text(0.5, 1.0, 'weather_main')"
      ]
     },
     "execution_count": 45,
     "metadata": {},
     "output_type": "execute_result"
    },
    {
     "data": {
      "text/plain": [
       "Text(0, 0.5, 'number of occurances')"
      ]
     },
     "execution_count": 45,
     "metadata": {},
     "output_type": "execute_result"
    },
    {
     "data": {
      "image/png": "[encoded data removed]",
      "text/plain": [
       "<Figure size 1200x1000 with 1 Axes>"
      ]
     },
     "metadata": {},
     "output_type": "display_data"
    },
    {
     "data": {
      "text/plain": [
       "Text(0.5, 1.0, 'weather_description')"
      ]
     },
     "execution_count": 45,
     "metadata": {},
     "output_type": "execute_result"
    },
    {
     "data": {
      "text/plain": [
       "Text(0, 0.5, 'number of occurances')"
      ]
     },
     "execution_count": 45,
     "metadata": {},
     "output_type": "execute_result"
    },
    {
     "data": {
      "image/png": "[encoded data removed]",
      "text/plain": [
       "<Figure size 1200x1000 with 1 Axes>"
      ]
     },
     "metadata": {},
     "output_type": "display_data"
    }
   ],
   "source": [
    "for col in categorical_columns:\n",
    "    f = df_weather[col].value_counts().plot(kind='bar', figsize=(12,10))\n",
    "    plt.title(col)\n",
    "    plt.ylabel('number of occurances')\n",
    "    plt.show()"
   ]
  },
  {
   "cell_type": "code",
   "execution_count": 46,
   "id": "b869eada",
   "metadata": {
    "ExecuteTime": {
     "end_time": "2023-04-07T12:15:44.308447Z",
     "start_time": "2023-04-07T12:15:44.299576Z"
    }
   },
   "outputs": [
    {
     "data": {
      "text/plain": [
       "Index(['number', 'date_time', 'weather_main', 'weather_description',\n",
       "       'temperature', 'temp_feels_like', 'pressure', 'humidity', 'visibility',\n",
       "       'wind_speed'],\n",
       "      dtype='object')"
      ]
     },
     "execution_count": 46,
     "metadata": {},
     "output_type": "execute_result"
    }
   ],
   "source": [
    "df_weather.columns"
   ]
  },
  {
   "cell_type": "code",
   "execution_count": 48,
   "id": "3297e819",
   "metadata": {
    "ExecuteTime": {
     "end_time": "2023-04-07T12:16:54.468804Z",
     "start_time": "2023-04-07T12:16:54.435591Z"
    }
   },
   "outputs": [
    {
     "data": {
      "text/html": [
       "<div>\n",
       "<style scoped>\n",
       "    .dataframe tbody tr th:only-of-type {\n",
       "        vertical-align: middle;\n",
       "    }\n",
       "\n",
       "    .dataframe tbody tr th {\n",
       "        vertical-align: top;\n",
       "    }\n",
       "\n",
       "    .dataframe thead th {\n",
       "        text-align: right;\n",
       "    }\n",
       "</style>\n",
       "<table border=\"1\" class=\"dataframe\">\n",
       "  <thead>\n",
       "    <tr style=\"text-align: right;\">\n",
       "      <th></th>\n",
       "      <th>temperature</th>\n",
       "      <th>temp_feels_like</th>\n",
       "      <th>number</th>\n",
       "      <th>date_time</th>\n",
       "    </tr>\n",
       "  </thead>\n",
       "  <tbody>\n",
       "    <tr>\n",
       "      <th>499</th>\n",
       "      <td>282.98</td>\n",
       "      <td>280.12</td>\n",
       "      <td>73</td>\n",
       "      <td>2023-04-06 10:45:02</td>\n",
       "    </tr>\n",
       "    <tr>\n",
       "      <th>474</th>\n",
       "      <td>282.98</td>\n",
       "      <td>280.12</td>\n",
       "      <td>106</td>\n",
       "      <td>2023-04-06 10:45:02</td>\n",
       "    </tr>\n",
       "    <tr>\n",
       "      <th>473</th>\n",
       "      <td>282.98</td>\n",
       "      <td>280.12</td>\n",
       "      <td>23</td>\n",
       "      <td>2023-04-06 10:45:02</td>\n",
       "    </tr>\n",
       "    <tr>\n",
       "      <th>472</th>\n",
       "      <td>282.98</td>\n",
       "      <td>280.12</td>\n",
       "      <td>1</td>\n",
       "      <td>2023-04-06 10:45:02</td>\n",
       "    </tr>\n",
       "    <tr>\n",
       "      <th>471</th>\n",
       "      <td>282.98</td>\n",
       "      <td>280.12</td>\n",
       "      <td>14</td>\n",
       "      <td>2023-04-06 10:45:02</td>\n",
       "    </tr>\n",
       "    <tr>\n",
       "      <th>470</th>\n",
       "      <td>282.98</td>\n",
       "      <td>280.12</td>\n",
       "      <td>98</td>\n",
       "      <td>2023-04-06 10:45:02</td>\n",
       "    </tr>\n",
       "    <tr>\n",
       "      <th>469</th>\n",
       "      <td>282.98</td>\n",
       "      <td>280.12</td>\n",
       "      <td>31</td>\n",
       "      <td>2023-04-06 10:45:02</td>\n",
       "    </tr>\n",
       "    <tr>\n",
       "      <th>468</th>\n",
       "      <td>282.98</td>\n",
       "      <td>280.12</td>\n",
       "      <td>43</td>\n",
       "      <td>2023-04-06 10:45:02</td>\n",
       "    </tr>\n",
       "    <tr>\n",
       "      <th>467</th>\n",
       "      <td>282.98</td>\n",
       "      <td>280.12</td>\n",
       "      <td>13</td>\n",
       "      <td>2023-04-06 10:45:02</td>\n",
       "    </tr>\n",
       "    <tr>\n",
       "      <th>466</th>\n",
       "      <td>282.98</td>\n",
       "      <td>280.12</td>\n",
       "      <td>48</td>\n",
       "      <td>2023-04-06 10:45:02</td>\n",
       "    </tr>\n",
       "    <tr>\n",
       "      <th>465</th>\n",
       "      <td>282.98</td>\n",
       "      <td>280.12</td>\n",
       "      <td>52</td>\n",
       "      <td>2023-04-06 10:45:02</td>\n",
       "    </tr>\n",
       "    <tr>\n",
       "      <th>464</th>\n",
       "      <td>282.98</td>\n",
       "      <td>280.12</td>\n",
       "      <td>32</td>\n",
       "      <td>2023-04-06 10:45:02</td>\n",
       "    </tr>\n",
       "    <tr>\n",
       "      <th>463</th>\n",
       "      <td>282.98</td>\n",
       "      <td>280.12</td>\n",
       "      <td>18</td>\n",
       "      <td>2023-04-06 10:45:02</td>\n",
       "    </tr>\n",
       "    <tr>\n",
       "      <th>462</th>\n",
       "      <td>282.98</td>\n",
       "      <td>280.12</td>\n",
       "      <td>6</td>\n",
       "      <td>2023-04-06 10:45:02</td>\n",
       "    </tr>\n",
       "    <tr>\n",
       "      <th>461</th>\n",
       "      <td>282.98</td>\n",
       "      <td>280.12</td>\n",
       "      <td>56</td>\n",
       "      <td>2023-04-06 10:45:02</td>\n",
       "    </tr>\n",
       "    <tr>\n",
       "      <th>460</th>\n",
       "      <td>282.98</td>\n",
       "      <td>280.12</td>\n",
       "      <td>20</td>\n",
       "      <td>2023-04-06 10:45:02</td>\n",
       "    </tr>\n",
       "    <tr>\n",
       "      <th>459</th>\n",
       "      <td>282.98</td>\n",
       "      <td>280.12</td>\n",
       "      <td>108</td>\n",
       "      <td>2023-04-06 10:45:02</td>\n",
       "    </tr>\n",
       "    <tr>\n",
       "      <th>458</th>\n",
       "      <td>282.98</td>\n",
       "      <td>280.12</td>\n",
       "      <td>54</td>\n",
       "      <td>2023-04-06 10:45:02</td>\n",
       "    </tr>\n",
       "    <tr>\n",
       "      <th>457</th>\n",
       "      <td>282.98</td>\n",
       "      <td>280.12</td>\n",
       "      <td>30</td>\n",
       "      <td>2023-04-06 10:45:02</td>\n",
       "    </tr>\n",
       "    <tr>\n",
       "      <th>456</th>\n",
       "      <td>282.98</td>\n",
       "      <td>280.12</td>\n",
       "      <td>42</td>\n",
       "      <td>2023-04-06 10:45:02</td>\n",
       "    </tr>\n",
       "    <tr>\n",
       "      <th>475</th>\n",
       "      <td>282.98</td>\n",
       "      <td>280.12</td>\n",
       "      <td>112</td>\n",
       "      <td>2023-04-06 10:45:02</td>\n",
       "    </tr>\n",
       "    <tr>\n",
       "      <th>476</th>\n",
       "      <td>282.98</td>\n",
       "      <td>280.12</td>\n",
       "      <td>68</td>\n",
       "      <td>2023-04-06 10:45:02</td>\n",
       "    </tr>\n",
       "    <tr>\n",
       "      <th>498</th>\n",
       "      <td>282.98</td>\n",
       "      <td>280.12</td>\n",
       "      <td>77</td>\n",
       "      <td>2023-04-06 10:45:02</td>\n",
       "    </tr>\n",
       "    <tr>\n",
       "      <th>478</th>\n",
       "      <td>282.98</td>\n",
       "      <td>280.12</td>\n",
       "      <td>87</td>\n",
       "      <td>2023-04-06 10:45:02</td>\n",
       "    </tr>\n",
       "    <tr>\n",
       "      <th>477</th>\n",
       "      <td>282.98</td>\n",
       "      <td>280.12</td>\n",
       "      <td>74</td>\n",
       "      <td>2023-04-06 10:45:02</td>\n",
       "    </tr>\n",
       "    <tr>\n",
       "      <th>497</th>\n",
       "      <td>282.98</td>\n",
       "      <td>280.12</td>\n",
       "      <td>61</td>\n",
       "      <td>2023-04-06 10:45:02</td>\n",
       "    </tr>\n",
       "    <tr>\n",
       "      <th>496</th>\n",
       "      <td>282.98</td>\n",
       "      <td>280.12</td>\n",
       "      <td>97</td>\n",
       "      <td>2023-04-06 10:45:02</td>\n",
       "    </tr>\n",
       "    <tr>\n",
       "      <th>495</th>\n",
       "      <td>282.98</td>\n",
       "      <td>280.12</td>\n",
       "      <td>5</td>\n",
       "      <td>2023-04-06 10:45:02</td>\n",
       "    </tr>\n",
       "    <tr>\n",
       "      <th>494</th>\n",
       "      <td>282.98</td>\n",
       "      <td>280.12</td>\n",
       "      <td>62</td>\n",
       "      <td>2023-04-06 10:45:02</td>\n",
       "    </tr>\n",
       "    <tr>\n",
       "      <th>492</th>\n",
       "      <td>282.98</td>\n",
       "      <td>280.12</td>\n",
       "      <td>116</td>\n",
       "      <td>2023-04-06 10:45:02</td>\n",
       "    </tr>\n",
       "    <tr>\n",
       "      <th>491</th>\n",
       "      <td>282.98</td>\n",
       "      <td>280.12</td>\n",
       "      <td>67</td>\n",
       "      <td>2023-04-06 10:45:02</td>\n",
       "    </tr>\n",
       "    <tr>\n",
       "      <th>490</th>\n",
       "      <td>282.98</td>\n",
       "      <td>280.12</td>\n",
       "      <td>9</td>\n",
       "      <td>2023-04-06 10:45:02</td>\n",
       "    </tr>\n",
       "    <tr>\n",
       "      <th>489</th>\n",
       "      <td>282.98</td>\n",
       "      <td>280.12</td>\n",
       "      <td>99</td>\n",
       "      <td>2023-04-06 10:45:02</td>\n",
       "    </tr>\n",
       "    <tr>\n",
       "      <th>493</th>\n",
       "      <td>282.98</td>\n",
       "      <td>280.12</td>\n",
       "      <td>55</td>\n",
       "      <td>2023-04-06 10:45:02</td>\n",
       "    </tr>\n",
       "    <tr>\n",
       "      <th>487</th>\n",
       "      <td>282.98</td>\n",
       "      <td>280.12</td>\n",
       "      <td>113</td>\n",
       "      <td>2023-04-06 10:45:02</td>\n",
       "    </tr>\n",
       "    <tr>\n",
       "      <th>486</th>\n",
       "      <td>282.98</td>\n",
       "      <td>280.12</td>\n",
       "      <td>63</td>\n",
       "      <td>2023-04-06 10:45:02</td>\n",
       "    </tr>\n",
       "    <tr>\n",
       "      <th>485</th>\n",
       "      <td>282.98</td>\n",
       "      <td>280.12</td>\n",
       "      <td>72</td>\n",
       "      <td>2023-04-06 10:45:02</td>\n",
       "    </tr>\n",
       "    <tr>\n",
       "      <th>484</th>\n",
       "      <td>282.98</td>\n",
       "      <td>280.12</td>\n",
       "      <td>114</td>\n",
       "      <td>2023-04-06 10:45:02</td>\n",
       "    </tr>\n",
       "    <tr>\n",
       "      <th>483</th>\n",
       "      <td>282.98</td>\n",
       "      <td>280.12</td>\n",
       "      <td>45</td>\n",
       "      <td>2023-04-06 10:45:02</td>\n",
       "    </tr>\n",
       "    <tr>\n",
       "      <th>482</th>\n",
       "      <td>282.98</td>\n",
       "      <td>280.12</td>\n",
       "      <td>17</td>\n",
       "      <td>2023-04-06 10:45:02</td>\n",
       "    </tr>\n",
       "    <tr>\n",
       "      <th>481</th>\n",
       "      <td>282.98</td>\n",
       "      <td>280.12</td>\n",
       "      <td>11</td>\n",
       "      <td>2023-04-06 10:45:02</td>\n",
       "    </tr>\n",
       "    <tr>\n",
       "      <th>480</th>\n",
       "      <td>282.98</td>\n",
       "      <td>280.12</td>\n",
       "      <td>90</td>\n",
       "      <td>2023-04-06 10:45:02</td>\n",
       "    </tr>\n",
       "    <tr>\n",
       "      <th>488</th>\n",
       "      <td>282.98</td>\n",
       "      <td>280.12</td>\n",
       "      <td>91</td>\n",
       "      <td>2023-04-06 10:45:02</td>\n",
       "    </tr>\n",
       "    <tr>\n",
       "      <th>479</th>\n",
       "      <td>282.98</td>\n",
       "      <td>280.12</td>\n",
       "      <td>84</td>\n",
       "      <td>2023-04-06 10:45:02</td>\n",
       "    </tr>\n",
       "    <tr>\n",
       "      <th>381</th>\n",
       "      <td>286.24</td>\n",
       "      <td>285.01</td>\n",
       "      <td>5</td>\n",
       "      <td>2023-04-06 14:15:02</td>\n",
       "    </tr>\n",
       "    <tr>\n",
       "      <th>380</th>\n",
       "      <td>286.24</td>\n",
       "      <td>285.01</td>\n",
       "      <td>62</td>\n",
       "      <td>2023-04-06 14:15:02</td>\n",
       "    </tr>\n",
       "    <tr>\n",
       "      <th>379</th>\n",
       "      <td>286.24</td>\n",
       "      <td>285.01</td>\n",
       "      <td>55</td>\n",
       "      <td>2023-04-06 14:15:02</td>\n",
       "    </tr>\n",
       "    <tr>\n",
       "      <th>378</th>\n",
       "      <td>286.24</td>\n",
       "      <td>285.01</td>\n",
       "      <td>116</td>\n",
       "      <td>2023-04-06 14:15:02</td>\n",
       "    </tr>\n",
       "    <tr>\n",
       "      <th>373</th>\n",
       "      <td>286.24</td>\n",
       "      <td>285.01</td>\n",
       "      <td>113</td>\n",
       "      <td>2023-04-06 14:15:02</td>\n",
       "    </tr>\n",
       "    <tr>\n",
       "      <th>376</th>\n",
       "      <td>286.24</td>\n",
       "      <td>285.01</td>\n",
       "      <td>9</td>\n",
       "      <td>2023-04-06 14:15:02</td>\n",
       "    </tr>\n",
       "  </tbody>\n",
       "</table>\n",
       "</div>"
      ],
      "text/plain": [
       "     temperature  temp_feels_like number           date_time\n",
       "499       282.98           280.12     73 2023-04-06 10:45:02\n",
       "474       282.98           280.12    106 2023-04-06 10:45:02\n",
       "473       282.98           280.12     23 2023-04-06 10:45:02\n",
       "472       282.98           280.12      1 2023-04-06 10:45:02\n",
       "471       282.98           280.12     14 2023-04-06 10:45:02\n",
       "470       282.98           280.12     98 2023-04-06 10:45:02\n",
       "469       282.98           280.12     31 2023-04-06 10:45:02\n",
       "468       282.98           280.12     43 2023-04-06 10:45:02\n",
       "467       282.98           280.12     13 2023-04-06 10:45:02\n",
       "466       282.98           280.12     48 2023-04-06 10:45:02\n",
       "465       282.98           280.12     52 2023-04-06 10:45:02\n",
       "464       282.98           280.12     32 2023-04-06 10:45:02\n",
       "463       282.98           280.12     18 2023-04-06 10:45:02\n",
       "462       282.98           280.12      6 2023-04-06 10:45:02\n",
       "461       282.98           280.12     56 2023-04-06 10:45:02\n",
       "460       282.98           280.12     20 2023-04-06 10:45:02\n",
       "459       282.98           280.12    108 2023-04-06 10:45:02\n",
       "458       282.98           280.12     54 2023-04-06 10:45:02\n",
       "457       282.98           280.12     30 2023-04-06 10:45:02\n",
       "456       282.98           280.12     42 2023-04-06 10:45:02\n",
       "475       282.98           280.12    112 2023-04-06 10:45:02\n",
       "476       282.98           280.12     68 2023-04-06 10:45:02\n",
       "498       282.98           280.12     77 2023-04-06 10:45:02\n",
       "478       282.98           280.12     87 2023-04-06 10:45:02\n",
       "477       282.98           280.12     74 2023-04-06 10:45:02\n",
       "497       282.98           280.12     61 2023-04-06 10:45:02\n",
       "496       282.98           280.12     97 2023-04-06 10:45:02\n",
       "495       282.98           280.12      5 2023-04-06 10:45:02\n",
       "494       282.98           280.12     62 2023-04-06 10:45:02\n",
       "492       282.98           280.12    116 2023-04-06 10:45:02\n",
       "491       282.98           280.12     67 2023-04-06 10:45:02\n",
       "490       282.98           280.12      9 2023-04-06 10:45:02\n",
       "489       282.98           280.12     99 2023-04-06 10:45:02\n",
       "493       282.98           280.12     55 2023-04-06 10:45:02\n",
       "487       282.98           280.12    113 2023-04-06 10:45:02\n",
       "486       282.98           280.12     63 2023-04-06 10:45:02\n",
       "485       282.98           280.12     72 2023-04-06 10:45:02\n",
       "484       282.98           280.12    114 2023-04-06 10:45:02\n",
       "483       282.98           280.12     45 2023-04-06 10:45:02\n",
       "482       282.98           280.12     17 2023-04-06 10:45:02\n",
       "481       282.98           280.12     11 2023-04-06 10:45:02\n",
       "480       282.98           280.12     90 2023-04-06 10:45:02\n",
       "488       282.98           280.12     91 2023-04-06 10:45:02\n",
       "479       282.98           280.12     84 2023-04-06 10:45:02\n",
       "381       286.24           285.01      5 2023-04-06 14:15:02\n",
       "380       286.24           285.01     62 2023-04-06 14:15:02\n",
       "379       286.24           285.01     55 2023-04-06 14:15:02\n",
       "378       286.24           285.01    116 2023-04-06 14:15:02\n",
       "373       286.24           285.01    113 2023-04-06 14:15:02\n",
       "376       286.24           285.01      9 2023-04-06 14:15:02"
      ]
     },
     "execution_count": 48,
     "metadata": {},
     "output_type": "execute_result"
    }
   ],
   "source": [
    "df_weather[[\"temperature\", \"temp_feels_like\", \"number\", \"date_time\"]].sort_values(\"date_time\")[:50]"
   ]
  }
 ],
 "metadata": {
  "kernelspec": {
   "display_name": "comp47350_lab",
   "language": "python",
   "name": "comp47350_lab"
  },
  "language_info": {
   "codemirror_mode": {
    "name": "ipython",
    "version": 3
   },
   "file_extension": ".py",
   "mimetype": "text/x-python",
   "name": "python",
   "nbconvert_exporter": "python",
   "pygments_lexer": "ipython3",
   "version": "3.8.16"
  },
  "toc": {
   "base_numbering": 1,
   "nav_menu": {},
   "number_sections": true,
   "sideBar": true,
   "skip_h1_title": false,
   "title_cell": "Table of Contents",
   "title_sidebar": "Contents",
   "toc_cell": false,
   "toc_position": {},
   "toc_section_display": true,
   "toc_window_display": false
  },
  "varInspector": {
   "cols": {
    "lenName": 16,
    "lenType": 16,
    "lenVar": 40
   },
   "kernels_config": {
    "python": {
     "delete_cmd_postfix": "",
     "delete_cmd_prefix": "del ",
     "library": "var_list.py",
     "varRefreshCmd": "print(var_dic_list())"
    },
    "r": {
     "delete_cmd_postfix": ") ",
     "delete_cmd_prefix": "rm(",
     "library": "var_list.r",
     "varRefreshCmd": "cat(var_dic_list()) "
    }
   },
   "types_to_exclude": [
    "module",
    "function",
    "builtin_function_or_method",
    "instance",
    "_Feature"
   ],
   "window_display": false
  }
 },
 "nbformat": 4,
 "nbformat_minor": 5
}
