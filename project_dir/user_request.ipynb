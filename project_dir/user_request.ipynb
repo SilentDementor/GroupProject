{
 "cells": [
  {
   "cell_type": "code",
   "execution_count": 1,
   "metadata": {},
   "outputs": [],
   "source": [
    "from datetime import datetime\n",
    "import requests\n",
    "import pandas as pd\n",
    "import pickle\n",
    "from flask import Flask, request, render_template"
   ]
  },
  {
   "cell_type": "code",
   "execution_count": 2,
   "metadata": {},
   "outputs": [],
   "source": [
    "# Load the trained ARIMA model from the file\n",
    "with open('model.pkl', 'rb') as handle:\n",
    "    model = pickle.load(handle)"
   ]
  },
  {
   "cell_type": "code",
   "execution_count": 3,
   "metadata": {},
   "outputs": [],
   "source": [
    "# Build the Flask API endpoint\n",
    "app = Flask(__name__)\n",
    "\n",
    "\n",
    "@app.route('/', methods=['GET', 'POST'])\n",
    "def home():\n",
    "    if request.method == 'POST':\n",
    "        # Get the user input from the HTML form\n",
    "        location = request.form['location']\n",
    "        date_str = request.form['date'] + ' ' + request.form['time']\n",
    "\n",
    "        # Convert the user input to a pandas datetime object\n",
    "        date = pd.to_datetime(date_str)\n",
    "\n",
    "        # Retrieve the weather data for the given date/time and location\n",
    "        weather_data = get_weather_data(location, date)\n",
    "\n",
    "        # Preprocess the weather data\n",
    "        weather_data = preprocess_weather_data(weather_data)\n",
    "\n",
    "        # Use the trained ARIMA model to predict the bike availability\n",
    "        prediction = model.forecast(steps=1, exog=[weather_data])[0]\n",
    "\n",
    "        # Return the predicted bike availability to the user on the web page\n",
    "        return render_template('index.html', prediction=prediction)\n",
    "\n",
    "    else:\n",
    "        # Render the HTML form for the user to input the bike station location and date/time\n",
    "        return render_template('index.html')\n"
   ]
  },
  {
   "cell_type": "code",
   "execution_count": 4,
   "metadata": {},
   "outputs": [],
   "source": [
    "def get_weather_data(location, date):\n",
    "    # Call an external API like OpenWeatherMap to retrieve the weather data for the given location and date/time\n",
    "    # You will need an API key from OpenWeatherMap to use this API\n",
    "    api_key = 'YOUR_API_KEY'\n",
    "    base_url = 'https://api.openweathermap.org/data/2.5/weather'\n",
    "    params = {'q': location, 'appid': api_key}\n",
    "    response = requests.get(base_url, params=params)\n",
    "    weather_data = response.json()\n",
    "\n",
    "    # Extract the relevant weather data and return it as a dictionary\n",
    "    extracted_data = {'temperature': weather_data['main']['temp'],\n",
    "                      'wind_speed': weather_data['wind']['speed'],\n",
    "                      'pressure': weather_data['main']['pressure'],\n",
    "                      'humidity': weather_data['main']['humidity']}\n",
    "    return extracted_data"
   ]
  },
  {
   "cell_type": "code",
   "execution_count": 5,
   "metadata": {},
   "outputs": [
    {
     "name": "stdout",
     "output_type": "stream",
     "text": [
      " * Serving Flask app '__main__'\n",
      " * Debug mode: on\n"
     ]
    },
    {
     "name": "stderr",
     "output_type": "stream",
     "text": [
      "WARNING: This is a development server. Do not use it in a production deployment. Use a production WSGI server instead.\n",
      " * Running on http://127.0.0.1:5000\n",
      "Press CTRL+C to quit\n",
      " * Restarting with stat\n"
     ]
    },
    {
     "ename": "SystemExit",
     "evalue": "1",
     "output_type": "error",
     "traceback": [
      "An exception has occurred, use %tb to see the full traceback.\n",
      "\u001b[1;31mSystemExit\u001b[0m\u001b[1;31m:\u001b[0m 1\n"
     ]
    },
    {
     "name": "stderr",
     "output_type": "stream",
     "text": [
      "c:\\Users\\Olga\\anaconda3\\envs\\comp30830\\lib\\site-packages\\IPython\\core\\interactiveshell.py:3513: UserWarning: To exit: use 'exit', 'quit', or Ctrl-D.\n",
      "  warn(\"To exit: use 'exit', 'quit', or Ctrl-D.\", stacklevel=1)\n"
     ]
    }
   ],
   "source": [
    "def preprocess_weather_data(weather_data):\n",
    "    # Preprocess the weather data to transform it to the same format as the training data\n",
    "    # For example, you can apply the same scaling or normalization as used during training\n",
    "    # You can also engineer additional features if required\n",
    "    # Finally, return the preprocessed weather data as a pandas dataframe\n",
    "    preprocessed_data = pd.DataFrame([weather_data])\n",
    "    preprocessed_data['temperature'] = preprocessed_data['temperature'] - 273.15\n",
    "    return preprocessed_data\n",
    "\n",
    "\n",
    "if __name__ == '__main__':\n",
    "    app.run(debug=True)"
   ]
  }
 ],
 "metadata": {
  "kernelspec": {
   "display_name": "comp30830",
   "language": "python",
   "name": "python3"
  },
  "language_info": {
   "codemirror_mode": {
    "name": "ipython",
    "version": 3
   },
   "file_extension": ".py",
   "mimetype": "text/x-python",
   "name": "python",
   "nbconvert_exporter": "python",
   "pygments_lexer": "ipython3",
   "version": "3.8.16"
  },
  "orig_nbformat": 4
 },
 "nbformat": 4,
 "nbformat_minor": 2
}
